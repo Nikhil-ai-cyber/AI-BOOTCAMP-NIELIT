{
  "nbformat": 4,
  "nbformat_minor": 0,
  "metadata": {
    "colab": {
      "provenance": []
    },
    "kernelspec": {
      "name": "python3",
      "display_name": "Python 3"
    },
    "language_info": {
      "name": "python"
    }
  },
  "cells": [
    {
      "cell_type": "code",
      "execution_count": 10,
      "metadata": {
        "colab": {
          "base_uri": "https://localhost:8080/"
        },
        "id": "MiXP1-UMvsqE",
        "outputId": "5958c539-4f46-4ebe-b01c-3f47ddc4cbfc"
      },
      "outputs": [
        {
          "output_type": "stream",
          "name": "stdout",
          "text": [
            "Hello World\n"
          ]
        }
      ],
      "source": [
        "print('Hello World')"
      ]
    },
    {
      "cell_type": "code",
      "source": [
        " a = 5\n",
        " b = 6.5\n",
        " # Addition\n",
        " c = a + b\n",
        " print('The sum of two number is',c)"
      ],
      "metadata": {
        "colab": {
          "base_uri": "https://localhost:8080/"
        },
        "id": "YdVYwy4mwfrK",
        "outputId": "041e1c68-77fe-46c7-8494-0544099f59a1"
      },
      "execution_count": 11,
      "outputs": [
        {
          "output_type": "stream",
          "name": "stdout",
          "text": [
            "The sum of two number is 11.5\n"
          ]
        }
      ]
    },
    {
      "cell_type": "code",
      "source": [
        "j = float(input('Enter first number: '))\n",
        "k = float(input('Enter second number:'))\n",
        "l = j*k\n",
        "print('The product of two number is', l)"
      ],
      "metadata": {
        "colab": {
          "base_uri": "https://localhost:8080/"
        },
        "id": "sIiF6H9Pwa8q",
        "outputId": "c03259c3-8b83-4c96-9025-0bed8350d252"
      },
      "execution_count": 13,
      "outputs": [
        {
          "output_type": "stream",
          "name": "stdout",
          "text": [
            "Enter first number: 99\n",
            "Enter second number:23.745648\n",
            "The product of two number is 2350.819152\n"
          ]
        }
      ]
    },
    {
      "cell_type": "code",
      "source": [],
      "metadata": {
        "id": "rvkgVBcn1KSJ"
      },
      "execution_count": null,
      "outputs": []
    },
    {
      "cell_type": "code",
      "source": [],
      "metadata": {
        "id": "b9UIDG1J1KRR"
      },
      "execution_count": null,
      "outputs": []
    }
  ]
}